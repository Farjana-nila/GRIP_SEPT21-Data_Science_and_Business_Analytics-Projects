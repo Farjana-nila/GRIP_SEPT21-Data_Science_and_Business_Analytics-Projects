{
 "cells": [
  {
   "cell_type": "markdown",
   "id": "8c1b3280",
   "metadata": {},
   "source": [
    "# Data Science & Business Analytics Intern at The Sparks Foundation\n"
   ]
  },
  {
   "cell_type": "markdown",
   "id": "48a6c2a3",
   "metadata": {},
   "source": [
    "**Author : Farjana Afroz Nila**"
   ]
  },
  {
   "cell_type": "markdown",
   "id": "8781328f",
   "metadata": {},
   "source": [
    "**Task 1 : Prediction using Supervised Machine Learning**"
   ]
  },
  {
   "cell_type": "markdown",
   "id": "807b1d79",
   "metadata": {},
   "source": [
    "**Objective: Predict the percentage of a student based on the no. of study hours**"
   ]
  },
  {
   "cell_type": "markdown",
   "id": "c637af59",
   "metadata": {},
   "source": [
    "**Importing Libraries**"
   ]
  },
  {
   "cell_type": "code",
   "execution_count": 24,
   "id": "15874914",
   "metadata": {},
   "outputs": [],
   "source": [
    "import numpy as np\n",
    "import matplotlib.pyplot as plt\n",
    "import pandas as pd"
   ]
  },
  {
   "cell_type": "markdown",
   "id": "889f8ce2",
   "metadata": {},
   "source": [
    "**Importing Dataset from Online**"
   ]
  },
  {
   "cell_type": "code",
   "execution_count": 25,
   "id": "82d49afb",
   "metadata": {},
   "outputs": [
    {
     "data": {
      "text/html": [
       "<div>\n",
       "<style scoped>\n",
       "    .dataframe tbody tr th:only-of-type {\n",
       "        vertical-align: middle;\n",
       "    }\n",
       "\n",
       "    .dataframe tbody tr th {\n",
       "        vertical-align: top;\n",
       "    }\n",
       "\n",
       "    .dataframe thead th {\n",
       "        text-align: right;\n",
       "    }\n",
       "</style>\n",
       "<table border=\"1\" class=\"dataframe\">\n",
       "  <thead>\n",
       "    <tr style=\"text-align: right;\">\n",
       "      <th></th>\n",
       "      <th>Hours</th>\n",
       "      <th>Scores</th>\n",
       "    </tr>\n",
       "  </thead>\n",
       "  <tbody>\n",
       "    <tr>\n",
       "      <th>0</th>\n",
       "      <td>2.5</td>\n",
       "      <td>21</td>\n",
       "    </tr>\n",
       "    <tr>\n",
       "      <th>1</th>\n",
       "      <td>5.1</td>\n",
       "      <td>47</td>\n",
       "    </tr>\n",
       "    <tr>\n",
       "      <th>2</th>\n",
       "      <td>3.2</td>\n",
       "      <td>27</td>\n",
       "    </tr>\n",
       "    <tr>\n",
       "      <th>3</th>\n",
       "      <td>8.5</td>\n",
       "      <td>75</td>\n",
       "    </tr>\n",
       "    <tr>\n",
       "      <th>4</th>\n",
       "      <td>3.5</td>\n",
       "      <td>30</td>\n",
       "    </tr>\n",
       "  </tbody>\n",
       "</table>\n",
       "</div>"
      ],
      "text/plain": [
       "   Hours  Scores\n",
       "0    2.5      21\n",
       "1    5.1      47\n",
       "2    3.2      27\n",
       "3    8.5      75\n",
       "4    3.5      30"
      ]
     },
     "execution_count": 25,
     "metadata": {},
     "output_type": "execute_result"
    }
   ],
   "source": [
    "url = \"http://bit.ly/w-data\"\n",
    "dataset = pd.read_csv(url)\n",
    "dataset.head()"
   ]
  },
  {
   "cell_type": "code",
   "execution_count": 26,
   "id": "4a330fe3",
   "metadata": {},
   "outputs": [
    {
     "data": {
      "text/plain": [
       "(25, 2)"
      ]
     },
     "execution_count": 26,
     "metadata": {},
     "output_type": "execute_result"
    }
   ],
   "source": [
    "dataset.shape"
   ]
  },
  {
   "cell_type": "code",
   "execution_count": 27,
   "id": "3984598f",
   "metadata": {},
   "outputs": [
    {
     "data": {
      "text/plain": [
       "Hours     0\n",
       "Scores    0\n",
       "dtype: int64"
      ]
     },
     "execution_count": 27,
     "metadata": {},
     "output_type": "execute_result"
    }
   ],
   "source": [
    "dataset.isna().sum() #get the count of missing values"
   ]
  },
  {
   "cell_type": "markdown",
   "id": "3203aedd",
   "metadata": {},
   "source": [
    "*This dataset doesn't contain any missing value*"
   ]
  },
  {
   "cell_type": "markdown",
   "id": "1fe0fb94",
   "metadata": {},
   "source": [
    "# Data Visualization"
   ]
  },
  {
   "cell_type": "code",
   "execution_count": 28,
   "id": "b4957338",
   "metadata": {},
   "outputs": [
    {
     "data": {
      "image/png": "[encoded data removed]",
      "text/plain": [
       "<Figure size 432x288 with 1 Axes>"
      ]
     },
     "metadata": {
      "needs_background": "light"
     },
     "output_type": "display_data"
    }
   ],
   "source": [
    "dataset.plot(x=\"Hours\",y =\"Scores\", kind ='scatter',color= 'g')\n",
    "plt.title(\"Hours vs Scores Projection\", color ='b')\n",
    "plt.xlabel('Hours of studies', color ='b')\n",
    "plt.ylabel('Percentage of Scores', color ='b')\n",
    "plt.yticks([10,30,50,70,90], color='r')\n",
    "plt.show()"
   ]
  },
  {
   "cell_type": "markdown",
   "id": "51f36cac",
   "metadata": {},
   "source": [
    "Result : A positive linear relationship is visualized"
   ]
  },
  {
   "cell_type": "code",
   "execution_count": 29,
   "id": "79c01f85",
   "metadata": {},
   "outputs": [],
   "source": [
    "#Data Preparation\n",
    "x = dataset.iloc[:,:-1].values \n",
    "y = dataset.iloc[:,-1].values #Prediction or output"
   ]
  },
  {
   "cell_type": "code",
   "execution_count": 30,
   "id": "f1b974d0",
   "metadata": {},
   "outputs": [],
   "source": [
    "#Training set and Test set\n",
    "from sklearn.model_selection import train_test_split\n",
    "x_train,x_test,y_train,y_test=train_test_split(x,y,test_size=1/3,random_state=0)"
   ]
  },
  {
   "cell_type": "markdown",
   "id": "b5d1e42c",
   "metadata": {},
   "source": [
    "# Training A ML Algorithm\n",
    "**Linear Regression has been selected to train this algorithm**"
   ]
  },
  {
   "cell_type": "code",
   "execution_count": 31,
   "id": "794abde1",
   "metadata": {},
   "outputs": [
    {
     "data": {
      "text/plain": [
       "LinearRegression()"
      ]
     },
     "execution_count": 31,
     "metadata": {},
     "output_type": "execute_result"
    }
   ],
   "source": [
    "from sklearn.linear_model import LinearRegression  \n",
    "reg = LinearRegression()  \n",
    "reg.fit(x_train, y_train)"
   ]
  },
  {
   "cell_type": "code",
   "execution_count": 32,
   "id": "29ec82fb",
   "metadata": {},
   "outputs": [],
   "source": [
    "y_pred = reg.predict(x_test) #comparing the actual output values for X_test with the predicted values"
   ]
  },
  {
   "cell_type": "markdown",
   "id": "767c5fb5",
   "metadata": {},
   "source": [
    "# Visualization of the Training Set & Test Set Results\n"
   ]
  },
  {
   "cell_type": "code",
   "execution_count": 33,
   "id": "65bdb49e",
   "metadata": {},
   "outputs": [
    {
     "data": {
      "image/png": "[encoded data removed]",
      "text/plain": [
       "<Figure size 1296x648 with 2 Axes>"
      ]
     },
     "metadata": {
      "needs_background": "light"
     },
     "output_type": "display_data"
    }
   ],
   "source": [
    "plt.figure(figsize=(18,9))\n",
    "\n",
    "plt.subplot(121)\n",
    "plt.scatter(x_train, y_train, color = 'g')\n",
    "plt.plot(x_train, reg.predict(x_train), color = 'b')\n",
    "plt.title('Percentage vs Hours (Training set)')\n",
    "plt.xlabel('Hours')\n",
    "plt.ylabel('Percentage',color ='r')\n",
    "\n",
    "\n",
    "\n",
    "plt.subplot(122)\n",
    "plt.scatter(x_test, y_test, color = 'g')\n",
    "plt.plot(x_train, reg.predict(x_train), color = 'b')\n",
    "plt.title('Percentage vs Hours (Test set)')\n",
    "plt.xlabel('Hours')\n",
    "plt.ylabel('Percentage', color = 'r')\n",
    "plt.show()"
   ]
  },
  {
   "cell_type": "code",
   "execution_count": 34,
   "id": "0c81ca75",
   "metadata": {},
   "outputs": [
    {
     "data": {
      "text/html": [
       "<div>\n",
       "<style scoped>\n",
       "    .dataframe tbody tr th:only-of-type {\n",
       "        vertical-align: middle;\n",
       "    }\n",
       "\n",
       "    .dataframe tbody tr th {\n",
       "        vertical-align: top;\n",
       "    }\n",
       "\n",
       "    .dataframe thead th {\n",
       "        text-align: right;\n",
       "    }\n",
       "</style>\n",
       "<table border=\"1\" class=\"dataframe\">\n",
       "  <thead>\n",
       "    <tr style=\"text-align: right;\">\n",
       "      <th></th>\n",
       "      <th>Actual</th>\n",
       "      <th>Predicted</th>\n",
       "    </tr>\n",
       "  </thead>\n",
       "  <tbody>\n",
       "    <tr>\n",
       "      <th>0</th>\n",
       "      <td>20</td>\n",
       "      <td>17.042892</td>\n",
       "    </tr>\n",
       "    <tr>\n",
       "      <th>1</th>\n",
       "      <td>27</td>\n",
       "      <td>33.516954</td>\n",
       "    </tr>\n",
       "    <tr>\n",
       "      <th>2</th>\n",
       "      <td>69</td>\n",
       "      <td>74.217577</td>\n",
       "    </tr>\n",
       "    <tr>\n",
       "      <th>3</th>\n",
       "      <td>30</td>\n",
       "      <td>26.733516</td>\n",
       "    </tr>\n",
       "    <tr>\n",
       "      <th>4</th>\n",
       "      <td>62</td>\n",
       "      <td>59.681640</td>\n",
       "    </tr>\n",
       "    <tr>\n",
       "      <th>5</th>\n",
       "      <td>35</td>\n",
       "      <td>39.331329</td>\n",
       "    </tr>\n",
       "    <tr>\n",
       "      <th>6</th>\n",
       "      <td>24</td>\n",
       "      <td>20.919142</td>\n",
       "    </tr>\n",
       "    <tr>\n",
       "      <th>7</th>\n",
       "      <td>86</td>\n",
       "      <td>78.093827</td>\n",
       "    </tr>\n",
       "    <tr>\n",
       "      <th>8</th>\n",
       "      <td>76</td>\n",
       "      <td>69.372265</td>\n",
       "    </tr>\n",
       "  </tbody>\n",
       "</table>\n",
       "</div>"
      ],
      "text/plain": [
       "   Actual  Predicted\n",
       "0      20  17.042892\n",
       "1      27  33.516954\n",
       "2      69  74.217577\n",
       "3      30  26.733516\n",
       "4      62  59.681640\n",
       "5      35  39.331329\n",
       "6      24  20.919142\n",
       "7      86  78.093827\n",
       "8      76  69.372265"
      ]
     },
     "execution_count": 34,
     "metadata": {},
     "output_type": "execute_result"
    }
   ],
   "source": [
    "ds=pd.DataFrame({\"Actual\":y_test,\"Predicted\":y_pred}) #the comparison between actual vs predicted value\n",
    "ds"
   ]
  },
  {
   "cell_type": "markdown",
   "id": "ba7ee84e",
   "metadata": {},
   "source": [
    "# Model Evaluation\n",
    "This step is the final procedure to justify how well different algorithms performed on a single dataset"
   ]
  },
  {
   "cell_type": "code",
   "execution_count": 35,
   "id": "8c6df2d5",
   "metadata": {},
   "outputs": [
    {
     "name": "stdout",
     "output_type": "stream",
     "text": [
      "Mean Absolute Error: 4.6913974413974415\n",
      "R Squared Score:  0.9555700801388128\n"
     ]
    }
   ],
   "source": [
    "from sklearn import metrics  \n",
    "print('Mean Absolute Error:',metrics.mean_absolute_error(y_test, y_pred))\n",
    "print('R Squared Score: ', metrics.r2_score(y_test,y_pred))"
   ]
  },
  {
   "cell_type": "markdown",
   "id": "2aa9bcec",
   "metadata": {},
   "source": [
    "# Predicting a new given value"
   ]
  },
  {
   "cell_type": "code",
   "execution_count": 36,
   "id": "6e407632",
   "metadata": {},
   "outputs": [
    {
     "name": "stdout",
     "output_type": "stream",
     "text": [
      "No of Hours = 9.25\n",
      "Predicted Score = 92.14523314523314\n"
     ]
    }
   ],
   "source": [
    "hours = 9.25\n",
    "new_pred = reg.predict(np.array(hours).reshape(1,1))\n",
    "print(\"No of Hours = {}\".format(hours))\n",
    "print(\"Predicted Score = {}\".format(new_pred[0]))"
   ]
  },
  {
   "cell_type": "markdown",
   "id": "aed83176",
   "metadata": {},
   "source": [
    "**Thank you**"
   ]
  }
 ],
 "metadata": {
  "kernelspec": {
   "display_name": "Python 3",
   "language": "python",
   "name": "python3"
  },
  "language_info": {
   "codemirror_mode": {
    "name": "ipython",
    "version": 3
   },
   "file_extension": ".py",
   "mimetype": "text/x-python",
   "name": "python",
   "nbconvert_exporter": "python",
   "pygments_lexer": "ipython3",
   "version": "3.8.8"
  }
 },
 "nbformat": 4,
 "nbformat_minor": 5
}
